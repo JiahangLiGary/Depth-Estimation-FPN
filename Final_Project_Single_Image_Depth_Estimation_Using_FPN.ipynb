{
  "cells": [
    {
      "cell_type": "markdown",
      "source": [
        "#EECS 442/504 Final Project: Single Image Depth Estimation Using FPN\n",
        "\n",
        "Jim Qian, Jiahang Li, Nan Chen"
      ],
      "metadata": {
        "id": "a_7QO_fWWYS-"
      }
    },
    {
      "cell_type": "markdown",
      "source": [
        "#**Acknowledgement**:\n",
        "**This project is based on**\n",
        "\n",
        "Paper: https://arxiv.org/pdf/1406.2283.pdf\n",
        "\n",
        "Dataset: https://cs.nyu.edu/~silberman/datasets/nyu_depth_v2.html\n",
        "\n",
        "We upgraded this paper's architecture with FPN.\n",
        "\n",
        "<br>\n",
        "\n",
        "**Reference github 1 and 2 are used for their example of NYU dataset dataloaders.**\n",
        "\n",
        "Reference github 1: https://github.com/zzzyq/Depth-Map-Prediction-with-Multi-Scale-Deep-network\n",
        "\n",
        "Reference github 2:\n",
        "https://github.com/imran3180/depth-map-prediction\n",
        "\n",
        "\n",
        "**Reference github 3 is for architecture of the estimation network.**\n",
        "\n",
        "Reference github 3: https://github.com/haofengac/MonoDepth-FPN-PyTorch\n",
        "\n",
        "Reference github 4 (useful for the NYU datasetloaders): https://github.com/wolverinn/Depth-Estimation-PyTorch\n"
      ],
      "metadata": {
        "id": "-gLAyJuEi6t9"
      }
    },
    {
      "cell_type": "markdown",
      "metadata": {
        "id": "cCsHXOHhFF_2"
      },
      "source": [
        "# Using FPN to form backend structure and estimate depth "
      ]
    },
    {
      "cell_type": "code",
      "execution_count": 1,
      "metadata": {
        "id": "Mjsv4DYuz5Av",
        "colab": {
          "base_uri": "https://localhost:8080/"
        },
        "outputId": "786f2662-e631-4a42-e8f6-0cdcf93a6c74"
      },
      "outputs": [
        {
          "output_type": "stream",
          "name": "stdout",
          "text": [
            "  Building wheel for wget (setup.py) ... \u001b[?25l\u001b[?25hdone\n"
          ]
        }
      ],
      "source": [
        "#install some python modules we need\n",
        "!pip -q install wget\n",
        "!pip -q install gdown"
      ]
    },
    {
      "cell_type": "code",
      "execution_count": 2,
      "metadata": {
        "id": "PYC9wnhjzuMR"
      },
      "outputs": [],
      "source": [
        "import math\n",
        "import torch\n",
        "import torch.nn as nn\n",
        "import torch.nn.functional as F\n",
        "from torch.utils.data._utils.collate import default_collate\n",
        "from torch import optim\n",
        "from torchvision import transforms\n",
        "import torchvision\n",
        "from torchvision import models\n",
        "from torchvision.models import feature_extraction\n",
        "from torchvision.ops import sigmoid_focal_loss,nms\n",
        "\n",
        "import matplotlib.pyplot as plt\n",
        "import numpy as np\n",
        "import os\n",
        "os.environ[\"CUDA_LAUNCH_BLOCKING\"] = '1'\n",
        "import matplotlib\n",
        "import torch\n",
        "from PIL import Image\n",
        "\n",
        "from typing import Optional, Dict, List, Optional, Tuple\n",
        "import wget\n",
        "import gdown\n",
        "import json\n",
        "import random\n",
        "import tarfile\n",
        "import time\n",
        "import shutil\n"
      ]
    },
    {
      "cell_type": "code",
      "execution_count": 3,
      "metadata": {
        "id": "FWw_ZC8h0IXM",
        "colab": {
          "base_uri": "https://localhost:8080/"
        },
        "outputId": "d609582a-7e16-433d-ddea-a2687042bdd6"
      },
      "outputs": [
        {
          "output_type": "stream",
          "name": "stdout",
          "text": [
            "Using the GPU!\n"
          ]
        }
      ],
      "source": [
        "# check GPU\n",
        "if torch.cuda.is_available():\n",
        "    print(\"Using the GPU!\")\n",
        "    DEVICE = torch.device(\"cuda\")\n",
        "else:\n",
        "    DEVICE = torch.device(\"cpu\")\n",
        "    print(\"WARNING: Could not find GPU! Using CPU only. If you want to enable GPU, please to go Edit > Notebook Settings > Hardware Accelerator and select GPU.\")"
      ]
    },
    {
      "cell_type": "code",
      "execution_count": 4,
      "metadata": {
        "id": "jP6m6b4fdee3"
      },
      "outputs": [],
      "source": [
        "# for plotting\n",
        "plt.rcParams[\"figure.figsize\"] = (10.0, 8.0)  # set default size of plots\n",
        "plt.rcParams[\"font.size\"] = 16\n",
        "plt.rcParams[\"image.interpolation\"] = \"nearest\"\n",
        "plt.rcParams[\"image.cmap\"] = \"gray\""
      ]
    },
    {
      "cell_type": "markdown",
      "metadata": {
        "id": "xa3B4dUHH5bE"
      },
      "source": [
        "## Load dataset for mat format\n",
        "(This part can be skipped as we use another way to process NYUV2 dataset) "
      ]
    },
    {
      "cell_type": "code",
      "source": [
        "from google.colab import drive\n",
        "drive.mount('/content/drive')"
      ],
      "metadata": {
        "colab": {
          "base_uri": "https://localhost:8080/"
        },
        "id": "M5MbCBuBQrhd",
        "outputId": "a5dd6ba2-a6a1-403a-aacc-a891055f6af7"
      },
      "execution_count": null,
      "outputs": [
        {
          "output_type": "stream",
          "name": "stdout",
          "text": [
            "Drive already mounted at /content/drive; to attempt to forcibly remount, call drive.mount(\"/content/drive\", force_remount=True).\n"
          ]
        }
      ]
    },
    {
      "cell_type": "markdown",
      "source": [
        "Download NYU dataset\n",
        "<br>\n",
        "Each RGB image is 3x640x480.\n",
        "<br>\n",
        "Each depth image is 1x640x480.\n",
        "<br>\n",
        "Transformation: don't need to resize; need ToTensor() and Normalize(mean, std)"
      ],
      "metadata": {
        "id": "abKi8qGjZ5CJ"
      }
    },
    {
      "cell_type": "code",
      "source": [
        "# load dataset\n",
        "import h5py\n",
        "images= h5py.File('/content/drive/Shared drives/CV_Final_project/nyu_depth_v2_labeled.mat')\n",
        "\n",
        "image_data=images['images']\n",
        "print(image_data.shape)\n",
        "\n",
        "image_depths=images['depths']\n",
        "print(image_depths.shape)\n",
        "print(type(image_depths))\n"
      ],
      "metadata": {
        "colab": {
          "base_uri": "https://localhost:8080/"
        },
        "id": "bizCdUYvmuGd",
        "outputId": "53f65748-4be1-4a46-c21d-94149d0e6134"
      },
      "execution_count": null,
      "outputs": [
        {
          "output_type": "stream",
          "name": "stdout",
          "text": [
            "(1449, 3, 640, 480)\n",
            "(1449, 640, 480)\n",
            "<class 'h5py._hl.dataset.Dataset'>\n"
          ]
        }
      ]
    },
    {
      "cell_type": "code",
      "source": [
        "from torch.utils.data import DataLoader\n",
        "train_img_data = image_data[0:868]\n",
        "# valid_img_data = image_data[869:1158]\n",
        "# test_img_data = image_data[1159:1448]\n",
        "\n",
        "# train_depth = image_depths[0:868]\n",
        "# valid_depth = image_depths[869:1158]\n",
        "# test_depth = image_depths[1159:1448]\n",
        "\n",
        "train_img_loader = DataLoader(train_img_data, shuffle=False, num_workers=1)\n",
        "\n",
        "\n",
        "# train_dataset = datasets.ImageFolder(data_dir, composed_transform)[0:868]\n",
        "# valid_dataset = datasets.ImageFolder(data_dir, composed_transform)[869:1158]\n",
        "# test_dataset = datasets.ImageFolder(data_dir, composed_transform)[1159:1448]"
      ],
      "metadata": {
        "id": "TeRg2GzwO7Rl"
      },
      "execution_count": null,
      "outputs": []
    },
    {
      "cell_type": "markdown",
      "metadata": {
        "id": "j3AumjO_MyQx"
      },
      "source": [
        "##Use FPN backbone to estimate Depth\n",
        "(This part can also be skipped beacause it deal with dataset with mat format)"
      ]
    },
    {
      "cell_type": "code",
      "source": [
        "from torchvision.models.resnet import resnet50\n",
        "\n",
        "def down_conv(dim_in, dim_out):\n",
        "    return nn.Sequential(\n",
        "        nn.Conv2d(dim_in, dim_in, kernel_size=3, stride=1, padding=1),\n",
        "        nn.ReLU(),\n",
        "        nn.Conv2d(dim_in, dim_out, kernel_size=3, stride=1, padding=1),\n",
        "        nn.ReLU(),\n",
        "    )\n",
        "\n",
        "def smooth(dim_in, dim_out):\n",
        "    return nn.Sequential(\n",
        "        nn.Conv2d(dim_in, dim_out, kernel_size=3, stride=1, padding=1),\n",
        "        nn.ReLU(),\n",
        "    )\n",
        "\n",
        "def final_conv(dim_in, dim_out):\n",
        "    return nn.Sequential(\n",
        "        nn.Conv2d(dim_in, dim_out, kernel_size=3, stride=1, padding=1),\n",
        "        nn.Sigmoid(),\n",
        "    )\n",
        "\n",
        "def upshuffle(dim_in, dim_out, upscale_factor):\n",
        "    return nn.Sequential(\n",
        "        nn.Conv2d(dim_in, dim_out*upscale_factor**2, kernel_size=3, stride=1, padding=1),\n",
        "        nn.PixelShuffle(upscale_factor),\n",
        "        nn.ReLU()\n",
        "    )\n",
        "\n",
        "\n",
        "class DepthEestimation(nn.Module):\n",
        "    def __init__(self, weights='ResNet50_Weights.DEFAULT', freeze_weight=False):\n",
        "        super(DepthEestimation, self).__init__()\n",
        "\n",
        "        resnet = resnet50(weights = weights)\n",
        "\n",
        "        # Freeze those weights\n",
        "        if freeze_weight:\n",
        "            for p in resnet.parameters():\n",
        "                p.requires_grad = False\n",
        "\n",
        "        # resnet _forward_impl operation\n",
        "        self.layer0 = nn.Sequential(resnet.conv1, resnet.bn1, resnet.relu, resnet.maxpool)\n",
        "        self.layer1 = nn.Sequential(resnet.layer1)\n",
        "        self.layer2 = nn.Sequential(resnet.layer2)\n",
        "        self.layer3 = nn.Sequential(resnet.layer3)\n",
        "        self.layer4 = nn.Sequential(resnet.layer4)\n",
        "\n",
        "        # Top layer\n",
        "        self.toplayer = nn.Conv2d(2048, 256, kernel_size=1, stride=1, padding=0)  # Reduce channels\n",
        "\n",
        "        # Lateral layers\n",
        "        self.latlayer1 = nn.Conv2d(1024, 256, kernel_size=1, stride=1, padding=0)\n",
        "        self.latlayer2 = nn.Conv2d( 512, 256, kernel_size=1, stride=1, padding=0)\n",
        "\n",
        "        # Smooth layers\n",
        "        self.smooth1 = nn.Conv2d(256, 256, kernel_size=3, stride=1, padding=1)\n",
        "        self.smooth2 = nn.Conv2d(256, 256, kernel_size=3, stride=1, padding=1)\n",
        "\n",
        "\n",
        "        # # Aggregate layers\n",
        "        self.down1 = down_conv(256, 128)\n",
        "        self.down2 = down_conv(256, 128)\n",
        "        self.down3 = down_conv(256, 128)\n",
        "        \n",
        "        # # Upshuffle layers\n",
        "        self.up1 = upshuffle(128,128,8)\n",
        "        self.up2 = upshuffle(128,128,4)\n",
        "        self.up3 = upshuffle(128,128,2)\n",
        "        \n",
        "        # last two conv for Depth prediction\n",
        "        self.conv1 = conv1(384, 64)\n",
        "        self.conv2 = final_conv(64, 1)\n",
        "        \n",
        "    def upsample_add(self, x, y):\n",
        "        '''Upsample and add feature maps.\n",
        "        used bilinear mode to make sure\n",
        "        the layers have same size\n",
        "        '''\n",
        "        _,_,H,W = y.size()\n",
        "        return nn.functional.interpolate(x, size=(H,W), mode='bilinear') + y\n",
        "\n",
        "    def forward(self, x):\n",
        "        _,_, H, W = x.size()\n",
        "        \n",
        "        # Bottom-up\n",
        "        c1 = self.layer0(x)\n",
        "        c2 = self.layer1(c1)\n",
        "        c3 = self.layer2(c2)\n",
        "        c4 = self.layer3(c3)\n",
        "        c5 = self.layer4(c4)\n",
        "\n",
        "        # Top-down\n",
        "        p5 = self.toplayer(c5)\n",
        "        p4 = self.upsample_add(p5, self.latlayer1(c4))\n",
        "        p4 = self.smooth1(p4)\n",
        "        p3 = self.upsample_add(p4, self.latlayer2(c3))\n",
        "        p3 = self.smooth2(p3) \n",
        "        \n",
        "        # upshuffle and combine p3,p4,p5, process to the final prediction\n",
        "        p5_shuffle, p4_shuffle, p3_shuffle = self.up1(self.down1(p5)), self.up2(self.down2(p4)), self.up3(self.down3(p3))\n",
        "        _, _, H, W = d3.size()\n",
        "        feat = torch.cat( [ nn.functional.interpolate(p, size=(H,W), mode='bilinear') for p in [p5_shuffle, p4_shuffle, p3_shuffle] ], dim=1 )\n",
        "        return self.conv2( self.conv1(feat) )   "
      ],
      "metadata": {
        "id": "5FSZOufkRlnU"
      },
      "execution_count": null,
      "outputs": []
    },
    {
      "cell_type": "markdown",
      "source": [
        "test for the estimation model"
      ],
      "metadata": {
        "id": "ZqFmD_CFXv3_"
      }
    },
    {
      "cell_type": "code",
      "source": [
        "i2d =  DepthEestimation()\n",
        "i = True\n",
        "\n",
        "for img in train_img_loader:\n",
        "  while i:     \n",
        "    print(img.size())\n",
        "    z_fake = i2d(img.float())\n",
        "    print(z_fake)\n",
        "    print(z_fake.size())\n",
        "    i = False"
      ],
      "metadata": {
        "id": "A6bx6Fx4RlnV"
      },
      "execution_count": null,
      "outputs": []
    },
    {
      "cell_type": "code",
      "source": [
        "print(images.keys())\n",
        "print(images['rawDepths'])"
      ],
      "metadata": {
        "id": "V7GkbS1YjakK"
      },
      "execution_count": null,
      "outputs": []
    },
    {
      "cell_type": "markdown",
      "metadata": {
        "id": "fwuwBU7b6DuV"
      },
      "source": [
        "##Training using NYUv2Datasetloader"
      ]
    },
    {
      "cell_type": "code",
      "source": [
        "from google.colab import drive\n",
        "drive.mount('/content/drive')"
      ],
      "metadata": {
        "id": "v6GMHAe21epa",
        "colab": {
          "base_uri": "https://localhost:8080/"
        },
        "outputId": "4cc2b7fc-5ab2-4b8a-973b-44cb07335858"
      },
      "execution_count": 5,
      "outputs": [
        {
          "output_type": "stream",
          "name": "stdout",
          "text": [
            "Mounted at /content/drive\n"
          ]
        }
      ]
    },
    {
      "cell_type": "code",
      "source": [
        "from torchvision.models.resnet import resnet101\n",
        "import torch.utils.data as data\n",
        "from PIL import Image\n",
        "from torchvision.transforms import Resize, Compose, ToPILImage, ToTensor\n",
        "import pickle\n",
        "\n",
        "LOAD_DIR = \"/content/drive/Shared drives/CV_Final_project\"\n",
        "\n",
        "class NYUv2Dataset(data.Dataset):\n",
        "    def __init__(self, train=True):\n",
        "        self.load_type = \"train\" if train else \"test\"\n",
        "        if train:\n",
        "            self.index_pkl = pickle.load(open(\"{}/data/index1.pkl\".format(LOAD_DIR),'rb'))\n",
        "            self.rgb_paths = list(self.index_pkl.keys())\n",
        "        else:\n",
        "            self.index_pkl = pickle.load(open(\"{}/data/index2.pkl\".format(LOAD_DIR),'rb'))\n",
        "            self.rgb_paths = list(self.index_pkl.keys())\n",
        "        self.rgb_transform = Compose([ToTensor()]) \n",
        "        self.depth_transform = Compose([ToTensor()])\n",
        "        self.length = len(self.rgb_paths)\n",
        "            \n",
        "    def __getitem__(self, index):\n",
        "        path = '{}/data/{}_rgb/'.format(LOAD_DIR,self.load_type)+self.rgb_paths[index]\n",
        "        rgb = Image.open(path)\n",
        "        depth = Image.open('{}/data/{}_depth/'.format(LOAD_DIR,self.load_type)+self.index_pkl[self.rgb_paths[index]])\n",
        "        depth = depth.resize((160,120))\n",
        "        return self.rgb_transform(rgb).float(), self.depth_transform(depth).float()\n",
        "\n",
        "    def __len__(self):\n",
        "        return self.length\n",
        "\n",
        "def imgrad(img):\n",
        "    img = torch.mean(img, 1, True)\n",
        "    fx = np.array([[1,0,-1],[2,0,-2],[1,0,-1]])\n",
        "    conv1 = nn.Conv2d(1, 1, kernel_size=3, stride=1, padding=1, bias=False)\n",
        "    weight = torch.from_numpy(fx).float().unsqueeze(0).unsqueeze(0)\n",
        "    if img.is_cuda:\n",
        "        weight = weight.cuda()\n",
        "    conv1.weight = nn.Parameter(weight)\n",
        "    grad_x = conv1(img)\n",
        "    # grad y\n",
        "    fy = np.array([[1,2,1],[0,0,0],[-1,-2,-1]])\n",
        "    conv2 = nn.Conv2d(1, 1, kernel_size=3, stride=1, padding=1, bias=False)\n",
        "    weight = torch.from_numpy(fy).float().unsqueeze(0).unsqueeze(0)\n",
        "    if img.is_cuda:\n",
        "        weight = weight.cuda()\n",
        "    conv2.weight = nn.Parameter(weight)\n",
        "    grad_y = conv2(img)\n",
        "    return grad_y, grad_x\n",
        "\n",
        "def imgrad_yx(img):\n",
        "    N,C,_,_ = img.size()\n",
        "    grad_y, grad_x = imgrad(img)\n",
        "    return torch.cat((grad_y.view(N,C,-1), grad_x.view(N,C,-1)), dim=1)\n",
        "\n"
      ],
      "metadata": {
        "id": "ekcibfYqyyEc"
      },
      "execution_count": 6,
      "outputs": []
    },
    {
      "cell_type": "markdown",
      "source": [
        "Loss functions"
      ],
      "metadata": {
        "id": "OT0rj2agatoc"
      }
    },
    {
      "cell_type": "code",
      "source": [
        "class GradLoss(nn.Module):\n",
        "    def __init__(self):\n",
        "        super(GradLoss, self).__init__()\n",
        "    # L1 norm\n",
        "    def forward(self, pred, gt):\n",
        "        return torch.mean( torch.abs(gt - pred) )\n",
        "\n",
        "class RMSE_log(nn.Module):\n",
        "    def __init__(self):\n",
        "        super(RMSE_log, self).__init__()\n",
        "    \n",
        "    def forward(self, pred, gt):\n",
        "        if not pred.shape == gt.shape:\n",
        "            _, _, H, W = gt.shape\n",
        "            pred = F.upsample(pred, size=(H,W), mode='bilinear')\n",
        "        loss = torch.sqrt( torch.mean( torch.abs(torch.log(gt) - torch.log(pred)) ** 2 ) )\n",
        "        return loss\n",
        "\n",
        "class NormalLoss(nn.Module):\n",
        "    def __init__(self):\n",
        "        super(NormalLoss, self).__init__()\n",
        "    \n",
        "    def forward(self, grad_pred, grad_gt):\n",
        "        product = ( grad_pred[:,:,None,:] @ grad_gt[:,:,:,None] ).squeeze(-1).squeeze(-1)\n",
        "        norm_pred = torch.sqrt( torch.sum( grad_pred**2, dim=-1 ) )\n",
        "        norm_gt = torch.sqrt( torch.sum( grad_gt**2, dim=-1 ) )\n",
        "        \n",
        "        return 1 - torch.mean( product / (norm_pred * norm_gt) )\n",
        "\n",
        "class Evl_loss(nn.Module):\n",
        "    def __init__(self):\n",
        "        super(Evl_loss, self).__init__()\n",
        "    \n",
        "    def forward(self, pred, gt):\n",
        "        if not pred.shape == gt.shape:\n",
        "            _, _, H, W = gt.shape\n",
        "            pred = F.upsample(pred, size=(H,W), mode='bilinear')\n",
        "        loss = torch.sqrt( torch.mean( torch.abs(10.*gt - 10.*pred) ** 2 ) )\n",
        "        loss /= 10000 \n",
        "        return loss"
      ],
      "metadata": {
        "id": "RY2kW_roavnm"
      },
      "execution_count": 10,
      "outputs": []
    },
    {
      "cell_type": "markdown",
      "source": [
        "Depth estimation model"
      ],
      "metadata": {
        "id": "kWTmUq9FewMp"
      }
    },
    {
      "cell_type": "code",
      "source": [
        "from torchvision.models.resnet import resnet101\n",
        "\n",
        "def down_conv(dim_in, dim_out):\n",
        "    return nn.Sequential(\n",
        "        nn.Conv2d(dim_in, dim_in, kernel_size=3, stride=1, padding=1),\n",
        "        nn.ReLU(),\n",
        "        nn.Conv2d(dim_in, dim_out, kernel_size=3, stride=1, padding=1),\n",
        "        nn.ReLU(),\n",
        "    )\n",
        "\n",
        "def conv1(dim_in, dim_out):\n",
        "    return nn.Sequential(\n",
        "        nn.Conv2d(dim_in, dim_out, kernel_size=3, stride=1, padding=1),\n",
        "        nn.ReLU(),\n",
        "    )\n",
        "\n",
        "def final_conv(dim_in, dim_out):\n",
        "    return nn.Sequential(\n",
        "        nn.Conv2d(dim_in, dim_out, kernel_size=3, stride=1, padding=1),\n",
        "        nn.ReLU(),\n",
        "    )\n",
        "\n",
        "def upshuffle(dim_in, dim_out, upscale_factor):\n",
        "    return nn.Sequential(\n",
        "        nn.Conv2d(dim_in, dim_out*upscale_factor**2, kernel_size=3, stride=1, padding=1),\n",
        "        nn.PixelShuffle(upscale_factor),\n",
        "        nn.ReLU()\n",
        "    )\n",
        "\n",
        "class DepthEestimation(nn.Module):\n",
        "    def __init__(self, weights='ResNet101_Weights.DEFAULT', freeze_weight=False):\n",
        "        super(DepthEestimation, self).__init__()\n",
        "\n",
        "        resnet = resnet101(weights = weights)\n",
        "\n",
        "        # Freeze those weights\n",
        "        if freeze_weight:\n",
        "            for p in resnet.parameters():\n",
        "                p.requires_grad = False\n",
        "\n",
        "        # resnet _forward_impl operation\n",
        "        self.layer0 = nn.Sequential(resnet.conv1, resnet.bn1, resnet.relu, resnet.maxpool)\n",
        "        self.layer1 = nn.Sequential(resnet.layer1)\n",
        "        self.layer2 = nn.Sequential(resnet.layer2)\n",
        "        self.layer3 = nn.Sequential(resnet.layer3)\n",
        "        self.layer4 = nn.Sequential(resnet.layer4)\n",
        "\n",
        "        # Top layer\n",
        "        self.toplayer = nn.Conv2d(2048, 256, kernel_size=1, stride=1, padding=0)  # Reduce channels\n",
        "\n",
        "        # Lateral layers\n",
        "        self.latlayer1 = nn.Conv2d(1024, 256, kernel_size=1, stride=1, padding=0)\n",
        "        self.latlayer2 = nn.Conv2d( 512, 256, kernel_size=1, stride=1, padding=0)\n",
        "\n",
        "        # Smooth layers\n",
        "        self.smooth1 = nn.Conv2d(256, 256, kernel_size=3, stride=1, padding=1)\n",
        "        self.smooth2 = nn.Conv2d(256, 256, kernel_size=3, stride=1, padding=1)\n",
        "\n",
        "\n",
        "        # # Aggregate layers\n",
        "        self.down1 = down_conv(256, 128)\n",
        "        self.down2 = down_conv(256, 128)\n",
        "        self.down3 = down_conv(256, 128)\n",
        "        \n",
        "        # # Upshuffle layers\n",
        "        self.up1 = upshuffle(128,128,8)\n",
        "        self.up2 = upshuffle(128,128,4)\n",
        "        self.up3 = upshuffle(128,128,2)\n",
        "        \n",
        "        # last two conv for Depth prediction\n",
        "        self.conv1 = conv1(384, 64)\n",
        "        self.conv2 = final_conv(64, 1)\n",
        "        \n",
        "    def upsample_add(self, x, y):\n",
        "        '''Upsample and add feature maps.\n",
        "        used bilinear mode to make sure\n",
        "        the layers have same size\n",
        "        '''\n",
        "        _,_,H,W = y.size()\n",
        "        return nn.functional.interpolate(x, size=(H,W), mode='bilinear') + y\n",
        "\n",
        "    def forward(self, x):\n",
        "        _,_, H, W = x.size()\n",
        "        \n",
        "        # Bottom-up\n",
        "        c1 = self.layer0(x)\n",
        "        c2 = self.layer1(c1)\n",
        "        c3 = self.layer2(c2)\n",
        "        c4 = self.layer3(c3)\n",
        "        c5 = self.layer4(c4)\n",
        "\n",
        "        # Top-down\n",
        "        p5 = self.toplayer(c5)\n",
        "        p4 = self.upsample_add(p5, self.latlayer1(c4))\n",
        "        p4 = self.smooth1(p4)\n",
        "        p3 = self.upsample_add(p4, self.latlayer2(c3))\n",
        "        p3 = self.smooth2(p3) \n",
        "        \n",
        "        # upshuffle and combine p3,p4,p5, process to the final prediction\n",
        "        p5_shuffle, p4_shuffle, p3_shuffle = self.up1(self.down1(p5)), self.up2(self.down2(p4)), self.up3(self.down3(p3))\n",
        "        _, _, H, W = p3_shuffle.size()\n",
        "        feat = torch.cat( [ nn.functional.interpolate(p, size=(H,W), mode='bilinear') for p in [p5_shuffle, p4_shuffle, p3_shuffle] ], dim=1 )\n",
        "        return self.conv2( self.conv1(feat) )    "
      ],
      "metadata": {
        "id": "buG8WAzcksRL"
      },
      "execution_count": 12,
      "outputs": []
    },
    {
      "cell_type": "code",
      "source": [
        "DEVICE = torch.device(\"cuda\" if torch.cuda.is_available() else \"cpu\")\n",
        "\n",
        "# learning rate and batch size\n",
        "lr = 0.001\n",
        "bs = 4\n",
        "# dataset\n",
        "train_dataset = NYUv2Dataset()\n",
        "train_size = len(train_dataset)\n",
        "eval_dataset = NYUv2Dataset(train=False)\n",
        "print(\"The length of the training dataset is {}.\".format(train_size))\n",
        "train_dataloader = torch.utils.data.DataLoader(train_dataset, batch_size=bs,shuffle=True)\n",
        "eval_dataloader = torch.utils.data.DataLoader(eval_dataset, batch_size=bs,shuffle=True)\n",
        "i2d =  DepthEestimation()\n",
        "i2d = i2d.to(DEVICE)\n",
        "\n",
        "\n",
        "# load model\n",
        "try:\n",
        "    i2d.load_state_dict(torch.load('{}/fpn_model.pt'.format(LOAD_DIR),map_location='cpu'))\n",
        "    print(\"Depth Eestimation model loaded\")\n",
        "except:\n",
        "    print(\"model load failed\")\n",
        "\n",
        "\n",
        "# optimizer\n",
        "optimizer = torch.optim.Adam(i2d.parameters(), lr=lr, betas=(0.9, 0.999), eps=1e-08, weight_decay=4e-5)\n",
        "\n",
        "# loss function\n",
        "grad_criterion = GradLoss()\n",
        "depth_criterion = RMSE_log()\n",
        "normal_criterion = NormalLoss()\n",
        "evl_loss = Evl_loss()\n",
        "# report loss step\n",
        "lrs = 20\n",
        "# report validation loss epoch\n",
        "vle = 1\n",
        "# max epoch\n",
        "max_epoch = 1\n",
        "\n",
        "# start training\n",
        "for epoch in range(0, max_epoch):\n",
        "    try:\n",
        "        torch.cuda.empty_cache()\n",
        "    except:\n",
        "        pass\n",
        "    i2d.train()\n",
        "    start = time.time()\n",
        "    # learning rate decay\n",
        "    if epoch > 5:\n",
        "        for param_group in optimizer.param_groups:\n",
        "            param_group['lr'] = param_group['lr'] * 0.9\n",
        "    for i, (img, depth) in enumerate(train_dataloader):\n",
        "        img, depth = img.to(DEVICE), depth.to(DEVICE)\n",
        "        optimizer.zero_grad()\n",
        "        depth_pred = i2d(img)\n",
        "        grad_gt, grad_pred = imgrad_yx(depth), imgrad_yx(depth_pred)\n",
        "        grad_loss = grad_criterion(grad_gt, grad_pred)\n",
        "        # depth_loss = depth_criterion(z, z_fake)\n",
        "        normal_loss = normal_criterion(grad_gt, grad_pred)\n",
        "        loss = grad_loss + normal_loss\n",
        "        loss.backward()\n",
        "        optimizer.step()\n",
        "        if (i+1) % (lrs) == 0:\n",
        "            print(\"[epoch %2d][iter %4d] loss: %.4f\" % (epoch+1, i+1, loss))\n",
        "    # save model\n",
        "    torch.save(i2d.state_dict(),'{}/fpn_model.pt'.format(LOAD_DIR))\n",
        "\n",
        "    # Validation\n",
        "    if (epoch+1) % vle == 0:\n",
        "        try:\n",
        "            torch.cuda.empty_cache()\n",
        "        except:\n",
        "            pass\n",
        "        i2d.eval()\n",
        "        print('evaluating mean loss using Evl_loss function:')\n",
        "        eval_loss = 0\n",
        "        count = 0\n",
        "        with torch.no_grad():\n",
        "          for i,(img, z) in enumerate(eval_dataloader):\n",
        "              img, z = img.to(DEVICE), z.to(DEVICE)\n",
        "              z_pred = i2d(img)\n",
        "              eval_loss += float(img.size(0)) * evl_loss(z_pred, z).item()**2\n",
        "              count += float(img.size(0))\n",
        "        print(\"[epoch %2d] val_loss: %.4f\" % (epoch+1, math.sqrt(eval_loss/count)))\n",
        "\n",
        "    end = time.time()\n",
        "    print('model saved and validate the loss in validation dataset')\n",
        "    print('time elapsed: %fs' % (end - start))"
      ],
      "metadata": {
        "id": "2mplMgn26HHp",
        "colab": {
          "base_uri": "https://localhost:8080/"
        },
        "outputId": "60a18baa-9aa0-4665-f63a-5a69fe1176cc"
      },
      "execution_count": 13,
      "outputs": [
        {
          "output_type": "stream",
          "name": "stdout",
          "text": [
            "The length of the training dataset is 1354.\n",
            "Depth Eestimation model loaded\n",
            "[epoch  1][iter   20] loss: 4816.3218\n",
            "[epoch  1][iter   40] loss: 5343.0352\n",
            "[epoch  1][iter   60] loss: 4459.5962\n",
            "[epoch  1][iter   80] loss: 4235.3062\n",
            "[epoch  1][iter  100] loss: 4447.4155\n",
            "[epoch  1][iter  120] loss: 4083.2727\n",
            "[epoch  1][iter  140] loss: 3988.4226\n",
            "[epoch  1][iter  160] loss: 5482.8115\n",
            "[epoch  1][iter  180] loss: 2833.1106\n",
            "[epoch  1][iter  200] loss: 4507.8545\n",
            "[epoch  1][iter  220] loss: 3469.8247\n",
            "[epoch  1][iter  240] loss: 4375.5029\n",
            "[epoch  1][iter  260] loss: 4114.7983\n",
            "[epoch  1][iter  280] loss: 3437.9958\n",
            "[epoch  1][iter  300] loss: 4829.2388\n",
            "[epoch  1][iter  320] loss: 4827.1748\n",
            "evaluating mean loss using Evl_loss function:\n",
            "[epoch  1] val_loss: 4.8607\n",
            "model saved and validate the loss in validation dataset\n",
            "time elapsed: 1202.317189s\n"
          ]
        }
      ]
    },
    {
      "cell_type": "markdown",
      "metadata": {
        "id": "Szy3X-BDPDDX"
      },
      "source": [
        "##Evaluation"
      ]
    },
    {
      "cell_type": "code",
      "source": [
        "from torchvision import transforms\n",
        "import math\n",
        "import matplotlib.pyplot as plt"
      ],
      "metadata": {
        "id": "WxxTTxYhEiwE"
      },
      "execution_count": 14,
      "outputs": []
    },
    {
      "cell_type": "code",
      "source": [
        "# Evaluation datasetloader\n",
        "\n",
        "LOAD_DIR = \"/content/drive/Shared drives/CV_Final_project\"\n",
        "LOAD_TYPE = \"evl\"\n",
        "class NYU2Dataset(data.Dataset):\n",
        "    def __init__(self):\n",
        "        self.index_pkl = pickle.load(open(\"{}/nyu2/index.pkl\".format(LOAD_DIR),'rb'))\n",
        "        self.rgb_paths = list(self.index_pkl.keys())\n",
        "        self.rgb_transform = Compose([ToTensor()])\n",
        "        self.depth_transform = Compose([ToTensor()])\n",
        "        self.length = len(self.rgb_paths)\n",
        "            \n",
        "    def __getitem__(self, index):\n",
        "        path = '{}/nyu2/{}_rgb/'.format(LOAD_DIR,LOAD_TYPE)+self.rgb_paths[index]\n",
        "        rgb = Image.open(path)\n",
        "        depth = Image.open('{}/nyu2/{}_depth/'.format(LOAD_DIR,LOAD_TYPE)+self.index_pkl[self.rgb_paths[index]])\n",
        "        depth = depth.resize((160,120))\n",
        "        return self.rgb_transform(rgb).float(), self.depth_transform(depth).float()\n",
        "\n",
        "    def __len__(self):\n",
        "        return self.length\n",
        "\n"
      ],
      "metadata": {
        "id": "Gzv9ypVTypTz"
      },
      "execution_count": 15,
      "outputs": []
    },
    {
      "cell_type": "code",
      "source": [
        "DEVICE = torch.device(\"cuda\" if torch.cuda.is_available() else \"cpu\")\n",
        "eval_dataset = NYU2Dataset()\n",
        "eval_dataloader = torch.utils.data.DataLoader(eval_dataset, batch_size=1,shuffle=True)\n",
        "i2d = DepthEestimation().to(DEVICE)\n",
        "\n",
        "\n",
        "# load model\n",
        "try:\n",
        "    i2d.load_state_dict(torch.load('{}/fpn_model.pt'.format(LOAD_DIR),map_location='cpu'))\n",
        "    print(\"Depth Eestimation model loaded\")\n",
        "except:\n",
        "    print(\"model load failed\")\n",
        "\n",
        "# iter = 0\n",
        "count = 0\n",
        "\n",
        "\n",
        "eval_rmse = RMSE_log()\n",
        "RMSE_log_loss = 0\n",
        "\n",
        "log10_loss = 0  #Used for comparing with baselines\n",
        "\n",
        "# setting to eval mode\n",
        "i2d.eval()\n",
        "print('Evaluating in test dataset')\n",
        "rgb_collection, pred_depth_collection, gt_depth_collection = [], [], []\n",
        "\n",
        "with torch.no_grad():\n",
        "    for i,(img,gt) in enumerate(eval_dataloader):\n",
        "        img,gt = img.to(DEVICE),gt.to(DEVICE)\n",
        "        pred_depth = i2d(img)\n",
        "\n",
        "        #log10_loss = mean(|log10(pred) - log10(gt)|)\n",
        "        cur_log10_loss = float(img.size(0)) *  torch.mean(torch.abs(torch.log10(pred_depth)-torch.log10(gt)))\n",
        "        if math.isnan(cur_log10_loss) or math.isinf(cur_log10_loss): continue\n",
        "        log10_loss += cur_log10_loss\n",
        "        #Problem with torch.abs(torch.log(pred_depth)-torch.log(gt))). Sometimes nan and sometimes inf. Probability of none of those for abs loss = 9/46\n",
        "\n",
        "        #RMSE_log_loss\n",
        "        rgb_img = transforms.ToPILImage()(img.squeeze(0))\n",
        "        rgb_resize = rgb_img.resize((160,120))\n",
        "        gt_img = transforms.ToPILImage()(gt.int().squeeze(0))\n",
        "        depth_img = transforms.ToPILImage()(pred_depth.int().squeeze(0))\n",
        "        rgb_collection.append(rgb_resize)\n",
        "        pred_depth_collection.append(depth_img)\n",
        "        gt_depth_collection.append(gt_img)\n",
        "        RMSE_log_loss += float(img.size(0)) * eval_rmse(pred_depth, gt).item()**2\n",
        "        \n",
        "        count += float(img.size(0))\n",
        "  \n",
        "print(\"Finished\")"
      ],
      "metadata": {
        "id": "JY6V-yEktCar",
        "colab": {
          "base_uri": "https://localhost:8080/"
        },
        "outputId": "104dd2d8-d7e3-4f1c-f514-853c87f960d0"
      },
      "execution_count": 16,
      "outputs": [
        {
          "output_type": "stream",
          "name": "stdout",
          "text": [
            "Depth Eestimation model loaded\n",
            "Evaluating in test dataset\n",
            "Finished\n"
          ]
        }
      ]
    },
    {
      "cell_type": "code",
      "source": [
        "print(\"Report the average loss below:\")\n",
        "print(\"RMSE_log_loss: \")\n",
        "print(math.sqrt(RMSE_log_loss/count))\n",
        "\n",
        "print(\"log10_loss: \")\n",
        "print(math.sqrt(log10_loss/count))"
      ],
      "metadata": {
        "colab": {
          "base_uri": "https://localhost:8080/"
        },
        "id": "MSG4M6H_n__Q",
        "outputId": "ed7bcb4e-aec5-4aee-9212-fc4447cfc25a"
      },
      "execution_count": null,
      "outputs": [
        {
          "output_type": "stream",
          "name": "stdout",
          "text": [
            "Report the average loss below:\n",
            "RMSE_log_loss: \n",
            "0.04992962995184801\n",
            "log10_loss: \n",
            "0.10695300949318934\n"
          ]
        }
      ]
    },
    {
      "cell_type": "markdown",
      "source": [
        "Image collection"
      ],
      "metadata": {
        "id": "LIPQLY8o6HDy"
      }
    },
    {
      "cell_type": "code",
      "source": [
        "DEVICE = torch.device(\"cuda\" if torch.cuda.is_available() else \"cpu\")\n",
        "eval_dataset = NYU2Dataset()\n",
        "eval_dataloader = torch.utils.data.DataLoader(eval_dataset, batch_size=1,shuffle=True)\n",
        "i2d = DepthEestimation().to(DEVICE)\n",
        "\n",
        "\n",
        "# load model\n",
        "try:\n",
        "    i2d.load_state_dict(torch.load('{}/fpn_model.pt'.format(LOAD_DIR),map_location='cpu'))\n",
        "    print(\"Depth Eestimation model loaded\")\n",
        "except:\n",
        "    print(\"model load failed\")\n",
        "\n",
        "\n",
        "count = 0\n",
        "\n",
        "\n",
        "\n",
        "# setting to eval mode\n",
        "i2d.eval()\n",
        "print('Get image collection')\n",
        "rgb_collection, pred_depth_collection, gt_depth_collection = [], [], []\n",
        "\n",
        "with torch.no_grad():\n",
        "    for i,(img,gt) in enumerate(eval_dataloader):\n",
        "        img,gt = img.to(DEVICE),gt.to(DEVICE)\n",
        "        pred_depth = i2d(img)\n",
        "        rgb_img = transforms.ToPILImage()(img.squeeze(0))\n",
        "        rgb_resize = rgb_img.resize((160,120))\n",
        "        gt_img = transforms.ToPILImage()(gt.int().squeeze(0))\n",
        "        depth_img = transforms.ToPILImage()(pred_depth.int().squeeze(0))\n",
        "        rgb_collection.append(rgb_resize)\n",
        "        pred_depth_collection.append(depth_img)\n",
        "        gt_depth_collection.append(gt_img)\n",
        " \n",
        "        \n",
        "  \n",
        "print(\"Finished\")"
      ],
      "metadata": {
        "colab": {
          "base_uri": "https://localhost:8080/"
        },
        "id": "OjfVtlx46Fll",
        "outputId": "aaeafbf9-2572-4d62-8413-6459da71b651"
      },
      "execution_count": 63,
      "outputs": [
        {
          "output_type": "stream",
          "name": "stdout",
          "text": [
            "Depth Eestimation model loaded\n",
            "Get image collection\n",
            "Finished\n"
          ]
        }
      ]
    },
    {
      "cell_type": "code",
      "source": [
        "number = 23"
      ],
      "metadata": {
        "id": "bfV1GWlnKguN"
      },
      "execution_count": 143,
      "outputs": []
    },
    {
      "cell_type": "code",
      "source": [
        "rgb_collection[number]"
      ],
      "metadata": {
        "colab": {
          "base_uri": "https://localhost:8080/",
          "height": 137
        },
        "id": "8siCQ4305dI1",
        "outputId": "30ecb345-7912-4e1b-f583-1ef56fffe4a5"
      },
      "execution_count": 144,
      "outputs": [
        {
          "output_type": "execute_result",
          "data": {
            "text/plain": [
              "<PIL.Image.Image image mode=RGB size=160x120 at 0x7F1168ACBF40>"
            ],
            "image/png": "[encoded data removed]"
          },
          "metadata": {},
          "execution_count": 144
        }
      ]
    },
    {
      "cell_type": "code",
      "source": [
        "gt_depth_collection[number]"
      ],
      "metadata": {
        "colab": {
          "base_uri": "https://localhost:8080/",
          "height": 137
        },
        "id": "HdaqYbqBGRBT",
        "outputId": "aee5600b-2dbe-49cc-af81-4c762c42dc87"
      },
      "execution_count": 145,
      "outputs": [
        {
          "output_type": "execute_result",
          "data": {
            "text/plain": [
              "<PIL.Image.Image image mode=I size=160x120 at 0x7F1168ACBE80>"
            ],
            "image/png": "[encoded data removed]"
          },
          "metadata": {},
          "execution_count": 145
        }
      ]
    },
    {
      "cell_type": "code",
      "source": [
        "pred_depth_collection[number]"
      ],
      "metadata": {
        "colab": {
          "base_uri": "https://localhost:8080/",
          "height": 137
        },
        "id": "4hkz-xPVJwar",
        "outputId": "0c56319e-8df0-4c85-d527-5945bc626b8b"
      },
      "execution_count": 146,
      "outputs": [
        {
          "output_type": "execute_result",
          "data": {
            "text/plain": [
              "<PIL.Image.Image image mode=I size=160x120 at 0x7F1168ACB310>"
            ],
            "image/png": "[encoded data removed]"
          },
          "metadata": {},
          "execution_count": 146
        }
      ]
    },
    {
      "cell_type": "code",
      "source": [],
      "metadata": {
        "id": "gRlqYoDN0vhF"
      },
      "execution_count": 138,
      "outputs": []
    }
  ],
  "metadata": {
    "colab": {
      "collapsed_sections": [
        "xa3B4dUHH5bE",
        "j3AumjO_MyQx"
      ],
      "provenance": []
    },
    "gpuClass": "standard",
    "kernelspec": {
      "display_name": "Python 3",
      "name": "python3"
    },
    "language_info": {
      "name": "python"
    },
    "accelerator": "GPU"
  },
  "nbformat": 4,
  "nbformat_minor": 0
}